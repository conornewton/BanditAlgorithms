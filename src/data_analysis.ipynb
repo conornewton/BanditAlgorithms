{
 "cells": [
  {
   "cell_type": "code",
   "execution_count": 1,
   "id": "mechanical-sending",
   "metadata": {},
   "outputs": [],
   "source": [
    "import pickle\n",
    "import numpy as np\n",
    "\n",
    "from gie import GosInE\n",
    "from simulation_util import *\n",
    "\n",
    "from load_data import *\n",
    "\n",
    "from ipywidgets import FloatSlider, interact, interact_manual\n"
   ]
  },
  {
   "cell_type": "code",
   "execution_count": 6,
   "id": "suspected-synthesis",
   "metadata": {},
   "outputs": [],
   "source": [
    "def plot_results(delta, high, low):\n",
    "    # Load data\n",
    "    (ucb_data, klucb_data) = load_data(delta=delta, high=high, low=low, root_dir=\"../data/old_bp\")\n",
    "    \n",
    "    print(ucb_data[0].arms.means)\n",
    "    \n",
    "    # Average Results\n",
    "    ucb_avg_cum_reg = average_results([ucb.average_regret() for ucb in ucb_data])\n",
    "    klucb_avg_cum_reg = average_results([klucb.average_regret() for klucb in klucb_data])\n",
    "    \n",
    "    # Plot Data\n",
    "    plt.plot(ucb_avg_cum_reg, color=\"r\", label=\"UCB\")\n",
    "    plt.plot(klucb_avg_cum_reg, color=\"g\", label=\"KL-UCB\")\n",
    "    plt.xlabel(\"Time\")\n",
    "    plt.ylabel(\"Regret\")\n",
    "    plt.legend()\n",
    "    plt.show()"
   ]
  },
  {
   "cell_type": "code",
   "execution_count": 7,
   "id": "listed-society",
   "metadata": {},
   "outputs": [
    {
     "data": {
      "application/vnd.jupyter.widget-view+json": {
       "model_id": "d3889936b5324eb6bb6bf8ee4fe3d7a3",
       "version_major": 2,
       "version_minor": 0
      },
      "text/plain": [
       "interactive(children=(FloatSlider(value=0.0, description='delta', max=0.25, step=0.025), FloatSlider(value=0.5…"
      ]
     },
     "metadata": {},
     "output_type": "display_data"
    },
    {
     "data": {
      "text/plain": [
       "<function __main__.plot_results(delta, high, low)>"
      ]
     },
     "execution_count": 7,
     "metadata": {},
     "output_type": "execute_result"
    }
   ],
   "source": [
    "delta = FloatSlider(min = 0.0, max = 0.25, step = 0.025)\n",
    "high  = FloatSlider(min = 0.5, max = 0.75, step = 0.05)\n",
    "low   = FloatSlider(min = 0.35, max = 0.5, step = 0.05)\n",
    "\n",
    "interact_manual(plot_results, delta=delta, high=high, low=low, root_dir=\"../data\")"
   ]
  },
  {
   "cell_type": "code",
   "execution_count": null,
   "id": "finished-stability",
   "metadata": {},
   "outputs": [],
   "source": []
  },
  {
   "cell_type": "code",
   "execution_count": null,
   "id": "parallel-blake",
   "metadata": {},
   "outputs": [],
   "source": []
  }
 ],
 "metadata": {
  "kernelspec": {
   "display_name": "bandit_algs",
   "language": "python",
   "name": "bandit_algs"
  },
  "language_info": {
   "codemirror_mode": {
    "name": "ipython",
    "version": 3
   },
   "file_extension": ".py",
   "mimetype": "text/x-python",
   "name": "python",
   "nbconvert_exporter": "python",
   "pygments_lexer": "ipython3",
   "version": "3.8.5"
  }
 },
 "nbformat": 4,
 "nbformat_minor": 5
}
